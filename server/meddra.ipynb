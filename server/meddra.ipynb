{
 "cells": [
  {
   "cell_type": "code",
   "execution_count": 18,
   "id": "e2020b2a",
   "metadata": {},
   "outputs": [],
   "source": [
    "import pandas as pd\n",
    "from difflib import get_close_matches\n",
    "import spacy\n"
   ]
  },
  {
   "cell_type": "code",
   "execution_count": 19,
   "id": "c4be8325",
   "metadata": {},
   "outputs": [],
   "source": [
    "# Load scispaCy model\n",
    "# nlp = spacy.load(\"en_core_sci_sm\")  # You can also use \"en_core_sci_sm\"\n",
    "nlp = spacy.load(\"en_ner_bc5cdr_md\")\n"
   ]
  },
  {
   "cell_type": "code",
   "execution_count": 20,
   "id": "dab9f493",
   "metadata": {},
   "outputs": [],
   "source": [
    "# Load the Excel sheet\n",
    "# df = pd.read_excel(\"MEDDRA.xlsx\", sheet_name=\"_DICTIONARY\")\n"
   ]
  },
  {
   "cell_type": "code",
   "execution_count": 21,
   "id": "f3b4ab84",
   "metadata": {},
   "outputs": [],
   "source": [
    "# # Extract MedDRA terms in lowercase\n",
    "# meddra_terms = df[\"name\"].dropna().str.lower().tolist()\n",
    "\n",
    "# # Sample input text\n",
    "# text = \"The patient had chemical burn and back distress, followed by chest x-ray.\"\n",
    "\n",
    "# # Process the text using scispaCy\n",
    "# doc = nlp(text)\n",
    "\n",
    "# # Match recognized entities to closest MedDRA term\n",
    "# for ent in doc.ents:\n",
    "#     match = get_close_matches(ent.text.lower(), meddra_terms, n=1, cutoff=0.8)\n",
    "#     if match:\n",
    "#         matched_term = match[0]\n",
    "#         row = df[df[\"name\"].str.lower() == matched_term].iloc[0]\n",
    "#         print(\n",
    "#             f\"Matched '{ent.text}' → '{matched_term}' → CURIE: {row['curie']}, IRI: {row['iri']}\"\n",
    "#         )\n",
    "#         print(ent.label_)\n",
    "#     else:\n",
    "#         print(f\"No good match for '{ent.text}'\")"
   ]
  },
  {
   "cell_type": "code",
   "execution_count": 29,
   "id": "4a903ba1",
   "metadata": {},
   "outputs": [
    {
     "name": "stdout",
     "output_type": "stream",
     "text": [
      "fatigue DISEASE\n",
      "fever DISEASE\n",
      "jaundice DISEASE\n",
      "hepatotoxicity DISEASE\n",
      "nausea DISEASE\n",
      "appetite loss DISEASE\n",
      "blurred vision DISEASE\n",
      "numb DISEASE\n",
      "ache DISEASE\n",
      "loss of appetite DISEASE\n"
     ]
    }
   ],
   "source": [
    "doc = nlp(\"My sister has high blood pressure and fatigue. I feel also a fever and jaundice, maybe hepatotoxicity, nausea, dark urine. appetite loss. blurred vision. numb. ache. I have a loss of appetite\")\n",
    "\n",
    "for ent in doc.ents:\n",
    "    print(ent.text, ent.label_)\n"
   ]
  }
 ],
 "metadata": {
  "kernelspec": {
   "display_name": "general",
   "language": "python",
   "name": "python3"
  },
  "language_info": {
   "codemirror_mode": {
    "name": "ipython",
    "version": 3
   },
   "file_extension": ".py",
   "mimetype": "text/x-python",
   "name": "python",
   "nbconvert_exporter": "python",
   "pygments_lexer": "ipython3",
   "version": "3.10.14"
  }
 },
 "nbformat": 4,
 "nbformat_minor": 5
}
